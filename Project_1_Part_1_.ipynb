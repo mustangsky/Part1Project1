{
  "nbformat": 4,
  "nbformat_minor": 0,
  "metadata": {
    "colab": {
      "provenance": [],
      "authorship_tag": "ABX9TyPKYFGgS98TL083gyrDOL7N",
      "include_colab_link": true
    },
    "kernelspec": {
      "name": "python3",
      "display_name": "Python 3"
    },
    "language_info": {
      "name": "python"
    }
  },
  "cells": [
    {
      "cell_type": "markdown",
      "metadata": {
        "id": "view-in-github",
        "colab_type": "text"
      },
      "source": [
        "<a href=\"https://colab.research.google.com/github/mustangsky/Part1Project1/blob/main/Project_1_Part_1_.ipynb\" target=\"_parent\"><img src=\"https://colab.research.google.com/assets/colab-badge.svg\" alt=\"Open In Colab\"/></a>"
      ]
    },
    {
      "cell_type": "markdown",
      "source": [
        "# Project Title: Project 1 - Part 1"
      ],
      "metadata": {
        "id": "9IsFgvDWaew7"
      }
    },
    {
      "cell_type": "markdown",
      "source": [
        "Jason White"
      ],
      "metadata": {
        "id": "_NIbegu9bHHg"
      }
    },
    {
      "cell_type": "code",
      "execution_count": null,
      "metadata": {
        "id": "GT_e-UE4aWWd"
      },
      "outputs": [],
      "source": []
    },
    {
      "cell_type": "markdown",
      "source": [
        "## Loading Data"
      ],
      "metadata": {
        "id": "CeZc80rbalNP"
      }
    },
    {
      "cell_type": "code",
      "source": [],
      "metadata": {
        "id": "atVR6fs2a4y4"
      },
      "execution_count": null,
      "outputs": []
    },
    {
      "cell_type": "markdown",
      "source": [
        "## Data Cleaning"
      ],
      "metadata": {
        "id": "QjG39Sf7aptx"
      }
    },
    {
      "cell_type": "code",
      "source": [],
      "metadata": {
        "id": "AjGpbdota5pA"
      },
      "execution_count": null,
      "outputs": []
    },
    {
      "cell_type": "markdown",
      "source": [
        "## Exploratory Visuals"
      ],
      "metadata": {
        "id": "CLshBQITatdD"
      }
    },
    {
      "cell_type": "code",
      "source": [],
      "metadata": {
        "id": "2ghLm-FZa6tX"
      },
      "execution_count": null,
      "outputs": []
    },
    {
      "cell_type": "markdown",
      "source": [
        "## Explanatory Visuals"
      ],
      "metadata": {
        "id": "q7vLrJU9ayXY"
      }
    },
    {
      "cell_type": "code",
      "source": [],
      "metadata": {
        "id": "71tHKH4-a7w9"
      },
      "execution_count": null,
      "outputs": []
    }
  ]
}